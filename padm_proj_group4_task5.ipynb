{
  "nbformat": 4,
  "nbformat_minor": 0,
  "metadata": {
    "colab": {
      "name": "padm_proj_group4_task5",
      "provenance": [],
      "collapsed_sections": [],
      "authorship_tag": "ABX9TyNCwDMeB69y8FJsmlIzX529",
      "include_colab_link": true
    },
    "kernelspec": {
      "name": "python3",
      "display_name": "Python 3"
    }
  },
  "cells": [
    {
      "cell_type": "markdown",
      "metadata": {
        "id": "view-in-github",
        "colab_type": "text"
      },
      "source": [
        "<a href=\"https://colab.research.google.com/github/mengyuest/project-dcmk/blob/main/padm_proj_group4_task5.ipynb\" target=\"_parent\"><img src=\"https://colab.research.google.com/assets/colab-badge.svg\" alt=\"Open In Colab\"/></a>"
      ]
    },
    {
      "cell_type": "markdown",
      "metadata": {
        "id": "JepmsE9WNF0N"
      },
      "source": [
        "\n",
        "# Task 5: Temporal Planning\n",
        "\n",
        "## Week 9 - Project Skeleton\n",
        "The goal of the first deliverable is to have completed the required reading on the topic area, as\n",
        "specified in the lecture notes. The group should provide a skeleton Jupyter notebook, outlining the\n",
        "main ideas of each topic in markup cells, as well as commented code cells which include function\n",
        "stubs for the capabilities to be demonstrated. **This deliverable is to be turned in by Friday 10/30 at 4pm.**\n",
        "\n",
        "**Due: 4pm, Oct. 30 (Friday)**\n",
        "\n",
        "**Deliverable: Skeleton Jupyter notebook**\n",
        "\n",
        "\n",
        "## Week 12 - First Draft\n",
        "**By Friday 11/20 at 4pm, the group will submit a first draft of their submission**, including detailed\n",
        "walkthroughs of the ideas involved in each topic, and working code complementing each section.\n",
        "This draft will be reviewed by the course TAs.\n",
        "\n",
        "**Due: 4pm, Nov. 20 (Friday)**\n",
        "\n",
        "**Deliverable: Draft of Jupyter notebook:**\n",
        "1. **Implementation of main functions**\n",
        "2. **Explanations about the functions**\n",
        "\n",
        "\n",
        "## Week 15 - Final Submission\n",
        "A final draft incorporating feedback from the TAs is to be turned in by Wednesday 12/9 at 4pm.\n",
        "\n",
        "**Due: 4pm, Dec. 9 (Wednesday)**"
      ]
    },
    {
      "cell_type": "markdown",
      "metadata": {
        "id": "fvA2D5-NOfYy"
      },
      "source": [
        "## Problem Background\n",
        "YOU are an engineer hired by the Generic Space Empire for a project. You have been assigned to a moon\n",
        "space station, the center of controversy throughout the galaxy.\n",
        "Maintenance personnel have noticed that several workstations have been acting up, but have assured the\n",
        "engineering team that “uh, everything’s perfectly all right now”. You, however, suspect something\n",
        "sinister afoot. Could it be sabotage from the Underdog Rebels?\n",
        "You know that a document for the space station was recently stolen (many Non-Copyrighted Alien spies\n",
        "died), in which several attacks taking advantage of design flaws have been documented. Each attack\n",
        "requires compromising a combination of components, distributed across the workstations.\n",
        "While you can not dismantle the workstations to directly inspect the components, you can send a team of\n",
        "diagnosis droids to make observations on the workstations to exactly determine the faulty components. As\n",
        "you perform diagnosis on each workstation, you can update the odds on which type of attack will occur.\n",
        "You must do this in a timely manner, so that you can escape before an attack if necessary, and warn the\n",
        "Big Bad Guy Wearing Black if time permits.\n",
        "\n",
        "\n",
        "## Task 5: Temporal Planning and Reasoning\n",
        "In this task, you will be asked to check whether you have time to warn the Big Bad Guy Wearing Black,\n",
        "or whether you should just try to escape. You will be given duration information for traversals, diagnosis,\n",
        "and possible additional actions you might take, as well as timing constraints you must meet in order to\n",
        "escape on a shuttle or provide warnings. You will be asked to check for the feasibility of alternative plans,\n",
        "providing a schedule for a feasible plan, and provide an explanation for each infeasible plan.\n",
        "\n",
        "## Group 5: Achieving task 5 using STNs\n",
        "Inputs:\n",
        "1. Set of possible actions\n",
        "2. Set of events\n",
        "3. Temporal constraints\n",
        "\n",
        "Outputs:\n",
        "1. Feasibility?\n",
        "2. Conflict if infeasible\n",
        "3. Schedule if feasible\n",
        "4. Best temporally feasible plan"
      ]
    },
    {
      "cell_type": "code",
      "metadata": {
        "id": "GyXu0dCPLh5C"
      },
      "source": [
        ""
      ],
      "execution_count": null,
      "outputs": []
    }
  ]
}