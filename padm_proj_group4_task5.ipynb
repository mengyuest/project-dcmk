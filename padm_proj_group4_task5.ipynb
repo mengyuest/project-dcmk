{
  "nbformat": 4,
  "nbformat_minor": 0,
  "metadata": {
    "colab": {
      "name": "padm_proj_group4_task5",
      "provenance": [],
      "collapsed_sections": [],
      "authorship_tag": "ABX9TyM0ya2HCPQus4SaGd/ilPAu",
      "include_colab_link": true
    },
    "kernelspec": {
      "name": "python3",
      "display_name": "Python 3"
    }
  },
  "cells": [
    {
      "cell_type": "markdown",
      "metadata": {
        "id": "view-in-github",
        "colab_type": "text"
      },
      "source": [
        "<a href=\"https://colab.research.google.com/github/mengyuest/project-dcmk/blob/main/padm_proj_group4_task5.ipynb\" target=\"_parent\"><img src=\"https://colab.research.google.com/assets/colab-badge.svg\" alt=\"Open In Colab\"/></a>"
      ]
    },
    {
      "cell_type": "markdown",
      "metadata": {
        "id": "JepmsE9WNF0N"
      },
      "source": [
        "\n",
        "# Task 5: Temporal Planning\n",
        "\n",
        "## Week 9 - Project Skeleton\n",
        "The goal of the first deliverable is to have completed the required reading on the topic area, as\n",
        "specified in the lecture notes. The group should provide a skeleton Jupyter notebook, outlining the\n",
        "main ideas of each topic in markup cells, as well as commented code cells which include function\n",
        "stubs for the capabilities to be demonstrated. **This deliverable is to be turned in by Friday 10/30 at 4pm.**\n",
        "\n",
        "**Due: 4pm, Oct. 30 (Friday)**\n",
        "\n",
        "**Deliverable: Skeleton Jupyter notebook**\n",
        "\n",
        "\n",
        "## Week 12 - First Draft\n",
        "**By Friday 11/20 at 4pm, the group will submit a first draft of their submission**, including detailed\n",
        "walkthroughs of the ideas involved in each topic, and working code complementing each section.\n",
        "This draft will be reviewed by the course TAs.\n",
        "\n",
        "**Due: 4pm, Nov. 20 (Friday)**\n",
        "\n",
        "**Deliverable: Draft of Jupyter notebook:**\n",
        "1. **Implementation of main functions**\n",
        "2. **Explanations about the functions**\n",
        "\n",
        "\n",
        "## Week 15 - Final Submission\n",
        "A final draft incorporating feedback from the TAs is to be turned in by Wednesday 12/9 at 4pm.\n",
        "\n",
        "**Due: 4pm, Dec. 9 (Wednesday)**"
      ]
    },
    {
      "cell_type": "markdown",
      "metadata": {
        "id": "fvA2D5-NOfYy"
      },
      "source": [
        "## Problem Background\n",
        "YOU are an engineer hired by the Generic Space Empire for a project. You have been assigned to a moon\n",
        "space station, the center of controversy throughout the galaxy.\n",
        "Maintenance personnel have noticed that several workstations have been acting up, but have assured the\n",
        "engineering team that “uh, everything’s perfectly all right now”. You, however, suspect something\n",
        "sinister afoot. Could it be sabotage from the Underdog Rebels?\n",
        "You know that a document for the space station was recently stolen (many Non-Copyrighted Alien spies\n",
        "died), in which several attacks taking advantage of design flaws have been documented. Each attack\n",
        "requires compromising a combination of components, distributed across the workstations.\n",
        "While you can not dismantle the workstations to directly inspect the components, you can send a team of\n",
        "diagnosis droids to make observations on the workstations to exactly determine the faulty components. As\n",
        "you perform diagnosis on each workstation, you can update the odds on which type of attack will occur.\n",
        "You must do this in a timely manner, so that you can escape before an attack if necessary, and warn the\n",
        "Big Bad Guy Wearing Black if time permits.\n",
        "\n",
        "\n",
        "## Task 5: Temporal Planning and Reasoning\n",
        "In this task, you will be asked to check whether you have time to warn the Big Bad Guy Wearing Black,\n",
        "or whether you should just try to escape. You will be given duration information for traversals, diagnosis,\n",
        "and possible additional actions you might take, as well as timing constraints you must meet in order to\n",
        "escape on a shuttle or provide warnings. You will be asked to check for the feasibility of alternative plans,\n",
        "providing a schedule for a feasible plan, and provide an explanation for each infeasible plan.\n",
        "\n",
        "## Group 5: Achieving task 5 using STNs\n",
        "Inputs:\n",
        "1. Set of possible actions\n",
        "2. Set of events\n",
        "3. Temporal constraints\n",
        "\n",
        "Outputs:\n",
        "1. Feasibility?\n",
        "2. Conflict if infeasible\n",
        "3. Schedule if feasible\n",
        "4. Best temporally feasible plan"
      ]
    },
    {
      "cell_type": "markdown",
      "metadata": {
        "id": "WN6XRhKORSzi"
      },
      "source": [
        "## Readings\n",
        "Representing temporal relations, Allen’s temporal algebra and simple temporal networks; temporal consistency, scheduling and dynamic execution. \n",
        "\n",
        "Reading: \n",
        "* Dechter, Meiri and Pearl, “Temporal Constraint Networks,” – on\n",
        "Stellar. \n",
        "* Optional Reading: Muscettola, Morris and Tsamardinos, “Reformulation Temporal Plans for Efficient\n",
        "Execution,” – on Stellar."
      ]
    },
    {
      "cell_type": "markdown",
      "metadata": {
        "id": "SAgEvcVnW4lx"
      },
      "source": [
        "## Notes for \"Temporal Constraint Networks\"\n",
        "\n",
        "Related papers:\n",
        "1. (Allen's interval algebra) Allen, James F. \"Maintaining knowledge about temporal intervals.\" Communications of the ACM 26.11 (1983): 832-843.\n",
        "2. (Point algebra) Vilain, Marc B., and Henry A. Kautz. \"Constraint propagation algorithms for temporal reasoning.\" Aaai. Vol. 86. 1986.\n",
        "3. (Linear inequalities) Malik, Jitendra, and Thomas O. Binford. \"Reasoning in Time and Space.\" IJCAI. Vol. 83. 1983.\n",
        "4. (Linear inequalities) Valdes-Perez, Raul E. \"Spatio-temporal reasoning and linear inequalities.\" (1986).\n",
        "5. (Time map) Dean, Thomas L., and Drew V. McDermott. \"Temporal data base management.\" Artificial intelligence 32.1 (1987): 1-55.\n",
        "\n",
        "\n",
        "### TCSP Model\n",
        "TCSP-*Temporal constraint satisfaction problem* is CSP that contains variables $\\{X_1\\cdots X_n\\}$ and constraints where each constraint is a set of intervals $\\{\\cdots,I_k,\\cdots\\}=\\{\\cdots,[a_k,b_k],\\cdots\\}$\n",
        "\n",
        "Two types of constraints:\n",
        "1. unary: $(a_1\\leq X_i\\leq b_i)\\vee \\cdots \\vee (a_n\\leq X_i\\leq b_n)$\n",
        "2. binary: $(a_1\\leq X_j-X_i\\leq b_i)\\vee \\cdots \\vee (a_n\\leq X_j-X_i\\leq b_n)$\n",
        "\n",
        "Can treat all constraints as binary constraints by adding a reference point $X_0$\n",
        "\n",
        "**Solution**: tuple $\\mathcal{X}=\\{x_1\\cdots x_n\\}$ satisifies all the constraints.\n",
        "\n",
        "v is a **feasible value** for $X_i$ if exists a solution in which $X_i=v$.\n",
        "\n",
        "**Minimal domain**: All feasible values of a variable.\n",
        "\n",
        "Network is **consistent** if at least one solution exists.\n",
        "\n",
        "\n",
        "Set operations ($T=\\{I_1,\\cdots I_l\\}$, $S=\\{J_1,\\cdots J_m\\}$): \n",
        "1. *union*: $T\\cup S=\\{I_1,\\cdots,I_l,J_1,\\cdots J_m\\}$\n",
        "2. *intersection*: $T\\oplus U=\\{K|K=I_i\\cap J_j, \\forall i,j\\}$\n",
        "3. *composition*: $T\\otimes U=\\{K|K=[a+c,b+d], \\forall I_i=[a,b],\\,J_l=[c,d]\\}$\n",
        "\n",
        "**Network level:**\n",
        "1. **Partial order**: $T\\subseteq S$ if all constraints meet $T_{ij}\\subseteq S_{ij}$( for every interval $J\\in S_{ij}$, there exist $I\\in T_{ij}$, such that $I\\subseteq J$ (which means $T_{ij}$ is tighter than $S_{ij}$)).\n",
        "2. Two networks are **equivalent** if they represent the same solution set.\n",
        "3. **Minimal network**: the one with respect to $\\subseteq$ from all equivalent representations of a network.\n",
        "4. A network is **decomposable** if every locally consistent assignment to any set of variables can be extended to a solution.\n",
        "\n",
        "### Simple Temporal Problem (STP)\n",
        "> Definition: all constraints specify a single interval.\n",
        "\n",
        "**Distance graph**: Associate an STP with a directed edge-weighted graph $G_d=(V,E_d)$\n",
        "\n",
        "Denote $d_ij$ the length of the shortest path from $i$ to $j$.\n",
        "\n",
        "**Theorem 3.1** STP is consistent iff its distance graph has no negative cycles.\n",
        "\n",
        "**Corollary 3.2.** For STP with graph $G_d$, two consistent scenarios are $S_1=(d_{01},\\cdots,d_{0n})$ and $S_2=(-d_{10},\\cdots,-d_{n0})$ which assign to each variable its latest and earliest possible time.\n",
        "\n",
        "**A given STP can be specified by a complete directed graph, called d-graph, where each edge $i\\to j$ is labeled by the shortest path length $d_{ij}$ in $G_d$.**\n",
        "\n",
        "\n",
        "**Theorem 3.3** Any consistent STP is decomposable relative to the constraints in its d-graph.\n",
        "\n",
        "**Corollary 3.4.** For STP with graph $G_d$, the set of feasible values for variable $X_i$ is $[-d_{i0}, d_{0i}]$\n",
        "\n",
        "**Corollary 3.5.** For a STP $T$, the graph defined by $M_{ij}=\\{[-d_{ji},d_{ij}]\\}$ is the minimal network representation for $T$.\n",
        "\n",
        "**d-graph of an STP can be constructed by applying Floyd-Warshall's all-pairs-shortest-paths algorithm to the distance graph. (it can also check consistency, by examining the sign of the diagonal elements $d_{ii}$)** Time complexity $O(n^3)$. Once the d-graph is ready, finding a solution requires $O(n^2)$ time.\n",
        "\n",
        "\n",
        "**(TODO)Still not clear how to find a solution and why it's $O(n^2)$**\n",
        "\n",
        "\n",
        "### The general TCSP\n",
        "> Edges may be labeled by several intervals\n",
        "\n",
        "\n",
        "\n",
        "### Paths consistency algorithms\n",
        "\n",
        "\n",
        "### Network-based algorithms"
      ]
    },
    {
      "cell_type": "code",
      "metadata": {
        "id": "GyXu0dCPLh5C"
      },
      "source": [
        ""
      ],
      "execution_count": null,
      "outputs": []
    }
  ]
}