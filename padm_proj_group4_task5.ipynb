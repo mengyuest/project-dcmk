{
  "nbformat": 4,
  "nbformat_minor": 0,
  "metadata": {
    "colab": {
      "name": "padm_proj_group4_task5",
      "provenance": [],
      "collapsed_sections": [],
      "toc_visible": true,
      "include_colab_link": true
    },
    "kernelspec": {
      "name": "python3",
      "display_name": "Python 3"
    }
  },
  "cells": [
    {
      "cell_type": "markdown",
      "metadata": {
        "id": "view-in-github",
        "colab_type": "text"
      },
      "source": [
        "<a href=\"https://colab.research.google.com/github/mengyuest/project-dcmk/blob/main/padm_proj_group4_task5.ipynb\" target=\"_parent\"><img src=\"https://colab.research.google.com/assets/colab-badge.svg\" alt=\"Open In Colab\"/></a>"
      ]
    },
    {
      "cell_type": "markdown",
      "metadata": {
        "id": "Z4BFoaW76-YN"
      },
      "source": [
        "### Teammates:\n",
        "\n",
        "* Kayla Holman\n",
        "* Lisa R Peng\n",
        "* Will Parker\n",
        "* Yue Meng"
      ]
    },
    {
      "cell_type": "markdown",
      "metadata": {
        "id": "JepmsE9WNF0N"
      },
      "source": [
        "\n",
        "# Timeline\n",
        "\n",
        "## Week 9 - Project Skeleton (Due: 4pm, Oct. 30, Friday)\n",
        "1. Completed the required reading\n",
        "2. Provide a skeleton Jupyter notebook\n",
        "3. Outlining the main ideas of each topic in markup cells\n",
        "4. Commented code cells which include function stubs for the capabilities to be demonstrated\n",
        "\n",
        "\n",
        "\n",
        "## Week 12 - First Draft (Due: 4pm, Nov. 20, Friday)\n",
        "1. Including detailed walkthroughs of the ideas involved in each topic\n",
        "2. Working code complementing each section.\n",
        "    - Implementation of main functions\n",
        "    - Explanations about the functions\n",
        "\n",
        "\n",
        "## Week 15 - Final Submission (4pm, Dec. 9, Wednesday)\n",
        "A final draft incorporating feedback from the TAs"
      ]
    },
    {
      "cell_type": "markdown",
      "metadata": {
        "id": "fvA2D5-NOfYy"
      },
      "source": [
        "# Problem Background\n",
        "YOU are an engineer hired by the Generic Space Empire for a project. You have been assigned to a moon\n",
        "space station, the center of controversy throughout the galaxy.\n",
        "Maintenance personnel have noticed that several workstations have been acting up, but have assured the\n",
        "engineering team that “uh, everything’s perfectly all right now”. You, however, suspect something\n",
        "sinister afoot. Could it be sabotage from the Underdog Rebels?\n",
        "You know that a document for the space station was recently stolen (many Non-Copyrighted Alien spies\n",
        "died), in which several attacks taking advantage of design flaws have been documented. Each attack\n",
        "requires compromising a combination of components, distributed across the workstations.\n",
        "While you can not dismantle the workstations to directly inspect the components, you can send a team of\n",
        "diagnosis droids to make observations on the workstations to exactly determine the faulty components. As\n",
        "you perform diagnosis on each workstation, you can update the odds on which type of attack will occur.\n",
        "You must do this in a timely manner, so that you can escape before an attack if necessary, and warn the\n",
        "Big Bad Guy Wearing Black if time permits.\n",
        "\n",
        "\n",
        "##Temporal Planning and Reasoning\n",
        "In this task, you will be asked to check whether you have time to warn the Big Bad Guy Wearing Black,\n",
        "or whether you should just try to escape. You will be given duration information for traversals, diagnosis,\n",
        "and possible additional actions you might take, as well as timing constraints you must meet in order to\n",
        "escape on a shuttle or provide warnings. You will be asked to check for the feasibility of alternative plans,\n",
        "providing a schedule for a feasible plan, and provide an explanation for each infeasible plan.\n",
        "\n",
        "Inputs:\n",
        "1. Set of possible actions\n",
        "2. Set of events\n",
        "3. Temporal constraints\n",
        "\n",
        "Outputs:\n",
        "1. Feasibility?\n",
        "2. Conflict if infeasible\n",
        "3. Schedule if feasible\n",
        "4. Best temporally feasible plan\n",
        "\n",
        "\n",
        "## Readings\n",
        "Representing temporal relations, Allen’s temporal algebra and simple temporal networks; temporal consistency, scheduling and dynamic execution. \n",
        "\n",
        "Reading: \n",
        "* Dechter, Meiri and Pearl, “Temporal Constraint Networks,” – on\n",
        "Stellar. \n",
        "* Optional Reading: Muscettola, Morris and Tsamardinos, “Reformulation Temporal Plans for Efficient\n",
        "Execution,” – on Stellar."
      ]
    },
    {
      "cell_type": "markdown",
      "metadata": {
        "id": "OUGLdKG8rYxP"
      },
      "source": [
        "# Code Section\n",
        "\n",
        "1. First translate input to multiple constraint graphs\n",
        "2. Then for each constraint graph:\n",
        "    1. Check whether it's feasible (and point out where it causes conflict)\n",
        "    2. Compute its minimal distance graph\n",
        "    3. Use minimal distance graph to do scheduling\n",
        "    4. Output the best feasible plan (I guess saving the Big Guy, and also in the shortest time?)"
      ]
    },
    {
      "cell_type": "code",
      "metadata": {
        "id": "dK81pgr42ZOf"
      },
      "source": [
        "# necessary data structures for APSP representation\n",
        "class Node:\n",
        "    pass\n",
        "\n",
        "\n",
        "class Edge:\n",
        "    pass\n",
        "\n",
        "\n",
        "class Graph:\n",
        "    pass\n",
        "    "
      ],
      "execution_count": null,
      "outputs": []
    },
    {
      "cell_type": "markdown",
      "metadata": {
        "id": "0XZLweiR9JUn"
      },
      "source": [
        "# Construct the Distance Graph\n",
        "Given a list of actions, events, and constraints for a given constraint problem, builds the distance graph using the graph implementation defined above. For the constraints given, the upper bounds of the intervals connect nodes in the forward direction, and lower bounds connect nodes in the backwards direction and are negated. "
      ]
    },
    {
      "cell_type": "code",
      "metadata": {
        "id": "ojmNeO2S55Wj"
      },
      "source": [
        "def build_distance_graphs(actions, events, constraints):\n",
        "    '''\n",
        "    Params:\n",
        "      actions:\n",
        "      events:\n",
        "      constraints:\n",
        "    Returns:\n",
        "      An instance of the Graph class representing the distance graph for the given inputs\n",
        "    '''\n",
        "    raise NotImplementedError"
      ],
      "execution_count": null,
      "outputs": []
    },
    {
      "cell_type": "markdown",
      "metadata": {
        "id": "i_J8im-lG9QC"
      },
      "source": [
        "# Checking Consistency of Distance Graph\n",
        "Given the distance graph, we need to check if there are any negative cycles that will render the problem unsolvable. This can either be done after making the distance graph or after creating the d-graph, but to avoid longer runtimes when there is a consistency, we'll do the check before making the d-graph. This will be done using the Bellman-Ford algorithm."
      ]
    },
    {
      "cell_type": "code",
      "metadata": {
        "id": "ue6qgWLb56fQ"
      },
      "source": [
        "def is_consistent(graph):\n",
        "    '''\n",
        "    Params:\n",
        "      graph: An instance of the Graph class representing the distance graph\n",
        "    Returns:\n",
        "      False if the graph has negative cycles, True otherwise\n",
        "    '''\n",
        "    raise NotImplementedError\n",
        "    #check outputted dp of APSP for negative values along the diagonal entries d_ii\n",
        "    #TODO(yue): another way to check consistency is to use Bellman-Ford algorithm\n",
        "    #           which gives O(VE) time complexity, as suggested from \n",
        "    #           https://stackoverflow.com/questions/16898416/fastest-algorithm-to-detect-if-there-is-negative-cycle-in-a-graph\n"
      ],
      "execution_count": null,
      "outputs": []
    },
    {
      "cell_type": "markdown",
      "metadata": {
        "id": "NcYCqFzV-7om"
      },
      "source": [
        "\n",
        "# Construct the APSP Complete Directed Graph \n",
        "\n",
        "Assuming that the provided scenario has been determined to be consistent, use the set of events, actions, and temporal constraints to construct a d-graph to solve the all-pairs-shortest-path problem. \n"
      ]
    },
    {
      "cell_type": "code",
      "metadata": {
        "id": "_bTJfQQl574F"
      },
      "source": [
        "def floyd_warshall_shortest_path(graph):\n",
        "    raise NotImplementedError\n",
        "    #this is Lisa: what's the diff between this fxn and build_apsp_graph?\n",
        "    #TODO(Yue): there are two ways to setup APSP graph:\n",
        "    #           1. Floyd-Warshall algorithm (O(V^3)) - fits dense graphs\n",
        "    #           2. Johnson’s algorithm (O(V^2\\log V + VE)) - fits sparse graphs\n",
        "    #           it would be cool if we can adaptively route the build_apsp_graph\n",
        "    #           function towards different handlers, based on graph sparsity\n"
      ],
      "execution_count": null,
      "outputs": []
    },
    {
      "cell_type": "code",
      "metadata": {
        "id": "PJoU9Uva5-Kv"
      },
      "source": [
        "def johnson_shortest_path(graph)：\n",
        "    raise NotImplementedError\n"
      ],
      "execution_count": null,
      "outputs": []
    },
    {
      "cell_type": "code",
      "metadata": {
        "id": "-2GcvnQe5-Pe"
      },
      "source": [
        "def build_apsp_d_graph(graph):\n",
        "    raise NotImplementedError"
      ],
      "execution_count": null,
      "outputs": []
    },
    {
      "cell_type": "code",
      "metadata": {
        "id": "INfB9A_V8aFJ"
      },
      "source": [
        "def find_conflicts(graph):\n",
        "    raise NotImplementedError\n"
      ],
      "execution_count": null,
      "outputs": []
    },
    {
      "cell_type": "markdown",
      "metadata": {
        "id": "3ZUOpCYlDVS7"
      },
      "source": [
        "Use Solution by Decomposition to extract a path.\n",
        "\n",
        "input: APSP d-graph\n",
        "\n",
        "output: assignment as a list representing sequence of actions with time interval pairs\n",
        "\n",
        "TODO: decide on human-readable output format, todo after we get a concrete idea of the data of the problem setup. "
      ]
    },
    {
      "cell_type": "code",
      "metadata": {
        "id": "CTj1r7og8cDE"
      },
      "source": [
        "\n",
        "\n",
        "# assignment-related functions\n",
        "def evaluate_assignment(assignment):\n",
        "    raise NotImplementedError\n",
        "\n",
        "# assignment-related functions\n",
        "def assignment_to_string(assignment):\n",
        "    raise NotImplementedError\n"
      ],
      "execution_count": null,
      "outputs": []
    },
    {
      "cell_type": "code",
      "metadata": {
        "id": "GyXu0dCPLh5C"
      },
      "source": [
        "def main(actions, events, constraints):\n",
        "    graphs = build_constraint_graphs(actions, events, constraints)\n",
        "    assigment_list = []\n",
        "    for i,graph in enumerate(graphs):\n",
        "        if is_consistent(graph):\n",
        "            apsp_graph = build_apsp_graph(graph)\n",
        "            assignment = schedule_under_apsp_graph(apsp_graph)\n",
        "            print(\"graph-%d is feasbile, and one greedy plan is %s\"%(i, assignment))\n",
        "            assigment_list.append(assignment)\n",
        "        else:\n",
        "            conflicts = find_conflicts(graph)\n",
        "            print(\"graph-%d is infeasible, and the conflicts are found in %s\"%(i, conflicts))\n",
        "\n",
        "    if len(assignment_list)==0:\n",
        "        print(\"No feasible plan can be found\")\n",
        "    else:\n",
        "        best_assignment = sorted(assignment_list, key=lambda x:evaluate_assignment(x), reversed=True)[0]\n",
        "        print(\"The best plan is %s\"%(best_assignment))\n",
        "\n",
        "\n",
        "#TODO do some tests\n",
        "main([],[],[])\n",
        "\n",
        "# Friday's assignment\n",
        "\n",
        "#TODO data structure (Yue)\n",
        "#TODO (describe for)\n",
        "# 1. build_constraint_graphs (Kayla)\n",
        "# 2. is_consistency (Kayla)\n",
        "# 3. build_apsp_graph (Will)\n",
        "# 4. schedule_under_apsp_graph (Lisa)\n"
      ],
      "execution_count": null,
      "outputs": []
    },
    {
      "cell_type": "markdown",
      "metadata": {
        "id": "SAgEvcVnW4lx"
      },
      "source": [
        "## Notes for \"Temporal Constraint Networks\"\n",
        "\n",
        "Related papers:\n",
        "1. (Allen's interval algebra) Allen, James F. \"Maintaining knowledge about temporal intervals.\" Communications of the ACM 26.11 (1983): 832-843.\n",
        "2. (Point algebra) Vilain, Marc B., and Henry A. Kautz. \"Constraint propagation algorithms for temporal reasoning.\" Aaai. Vol. 86. 1986.\n",
        "3. (Linear inequalities) Malik, Jitendra, and Thomas O. Binford. \"Reasoning in Time and Space.\" IJCAI. Vol. 83. 1983.\n",
        "4. (Linear inequalities) Valdes-Perez, Raul E. \"Spatio-temporal reasoning and linear inequalities.\" (1986).\n",
        "5. (Time map) Dean, Thomas L., and Drew V. McDermott. \"Temporal data base management.\" Artificial intelligence 32.1 (1987): 1-55.\n",
        "\n",
        "\n",
        "### TCSP Model\n",
        "TCSP-*Temporal constraint satisfaction problem* is CSP that contains variables $\\{X_1\\cdots X_n\\}$ and constraints where each constraint is a set of intervals $\\{\\cdots,I_k,\\cdots\\}=\\{\\cdots,[a_k,b_k],\\cdots\\}$\n",
        "\n",
        "Two types of constraints:\n",
        "1. unary: $(a_1\\leq X_i\\leq b_i)\\vee \\cdots \\vee (a_n\\leq X_i\\leq b_n)$\n",
        "2. binary: $(a_1\\leq X_j-X_i\\leq b_i)\\vee \\cdots \\vee (a_n\\leq X_j-X_i\\leq b_n)$\n",
        "\n",
        "Can treat all constraints as binary constraints by adding a reference point $X_0$\n",
        "\n",
        "**Solution**: tuple $\\mathcal{X}=\\{x_1\\cdots x_n\\}$ satisifies all the constraints.\n",
        "\n",
        "v is a **feasible value** for $X_i$ if exists a solution in which $X_i=v$.\n",
        "\n",
        "**Minimal domain**: All feasible values of a variable.\n",
        "\n",
        "Network is **consistent** if at least one solution exists.\n",
        "\n",
        "\n",
        "Set operations ($T=\\{I_1,\\cdots I_l\\}$, $S=\\{J_1,\\cdots J_m\\}$): \n",
        "1. *union*: $T\\cup S=\\{I_1,\\cdots,I_l,J_1,\\cdots J_m\\}$\n",
        "2. *intersection*: $T\\oplus U=\\{K|K=I_i\\cap J_j, \\forall i,j\\}$\n",
        "3. *composition*: $T\\otimes U=\\{K|K=[a+c,b+d], \\forall I_i=[a,b],\\,J_l=[c,d]\\}$\n",
        "\n",
        "**Network level:**\n",
        "1. **Partial order**: $T\\subseteq S$ if all constraints meet $T_{ij}\\subseteq S_{ij}$( for every interval $J\\in S_{ij}$, there exist $I\\in T_{ij}$, such that $I\\subseteq J$ (which means $T_{ij}$ is tighter than $S_{ij}$)).\n",
        "2. Two networks are **equivalent** if they represent the same solution set.\n",
        "3. **Minimal network**: the one with respect to $\\subseteq$ from all equivalent representations of a network.\n",
        "4. A network is **decomposable** if every locally consistent assignment to any set of variables can be extended to a solution.\n",
        "\n",
        "### Simple Temporal Problem (STP)\n",
        "> Definition: all constraints specify a single interval.\n",
        "\n",
        "**Distance graph**: Associate an STP with a directed edge-weighted graph $G_d=(V,E_d)$\n",
        "\n",
        "Denote $d_ij$ the length of the shortest path from $i$ to $j$.\n",
        "\n",
        "**Theorem 3.1** STP is consistent iff its distance graph has no negative cycles.\n",
        "\n",
        "**Corollary 3.2.** For STP with graph $G_d$, two consistent scenarios are $S_1=(d_{01},\\cdots,d_{0n})$ and $S_2=(-d_{10},\\cdots,-d_{n0})$ which assign to each variable its latest and earliest possible time.\n",
        "\n",
        "**A given STP can be specified by a complete directed graph, called d-graph, where each edge $i\\to j$ is labeled by the shortest path length $d_{ij}$ in $G_d$.**\n",
        "\n",
        "\n",
        "**Theorem 3.3** Any consistent STP is decomposable relative to the constraints in its d-graph.\n",
        "\n",
        "**Corollary 3.4.** For STP with graph $G_d$, the set of feasible values for variable $X_i$ is $[-d_{i0}, d_{0i}]$\n",
        "\n",
        "**Corollary 3.5.** For a STP $T$, the graph defined by $M_{ij}=\\{[-d_{ji},d_{ij}]\\}$ is the minimal network representation for $T$.\n",
        "\n",
        "**d-graph of an STP can be constructed by applying Floyd-Warshall's all-pairs-shortest-paths algorithm to the distance graph. (it can also check consistency, by examining the sign of the diagonal elements $d_{ii}$)** Time complexity $O(n^3)$. Once the d-graph is ready, finding a solution requires $O(n^2)$ time.\n",
        "\n",
        "\n",
        "**(TODO)Still not clear how to find a solution and why it's $O(n^2)$**\n",
        "\n",
        "\n",
        "### The general TCSP\n",
        "> Edges may be labeled by several intervals\n",
        "\n",
        "Deciding consistency of TCSP is NP-Hard\n",
        "\n",
        "One **naive** way to solve TCSP is to decompose it into several STPs, solve each, and combine the result.\n",
        "\n",
        "The \"Backtrack\" algorithm (recursively Forward and Go-back) is in Fig-5\n",
        "\n",
        "But this one too expensive- $O(n^3k^e)$ (n nodes, k intervals for each constraint)\n",
        "\n",
        "\n",
        "\n",
        "\n",
        "\n",
        "\n",
        "\n",
        "### Paths consistency algorithms\n",
        "> An approximation method, or say preprocessing, by finding path-consistent network\n",
        "\n",
        "**Path-Consistency**\n",
        "\n",
        "PC-1, similar to Montanari's path consistency algorithm (shown in Fig6)\n",
        "\n",
        "**Path Consist Network?=>Minimal Network**: True for STP due to distributivity holds, but does not hold for TCSP\n",
        "\n",
        "Path-consistent cannot detect inconsistency.\n",
        "\n",
        "PC-2 (more efficient, Fig-8)\n",
        "\n",
        "For discrete CSPs, PC-2 achieves path consistency in $O(n^3R^3)$, where $R$ is the maximum range of any constraint (in coarest units).\n",
        "\n",
        "**Directional path consistency** - a weaker version of path consistency. (more efficient)\n",
        "\n",
        "\n",
        "For TCSP, directional path consistency can be acheived by algorithm DPC (single-pass comparing to PC-1).\n",
        "\n",
        "induced-graph\n",
        "\n",
        "DPC Complexity: $O(nW^*(d)^2)$, where $W^*(d)$ is the maximum number of parents a node has in the induced-graph.\n",
        "\n",
        "\n",
        "\n",
        "\n",
        "### Network-based algorithms\n",
        "> The topological features of the constraint network may guide to select efficient solution methods, lower complexity than naive backtracking.\n",
        "\n",
        "\n",
        "*series-parallel networks* (equiv. to *regualr width-2 networks*)\n",
        "\n",
        "\n",
        "This network can yield a backtrack-free solution.\n",
        "\n",
        "\n",
        "\n",
        "Decomposition into nonseparable components: First find the nonseparable components, then solve each of them independently. If all components are consistent, then the entire network is consistent, and minimal networks of components coincide with the overall minimal network.\n",
        "\n",
        "### Summary\n",
        "1. STP and general TCSP (multi-interval constraint per node)\n",
        "2. STP is solved in polynomial time using FloydWarshall\n",
        "3. TCSP is solved by decomposition to STP, but not an efficient algorithm.\n",
        "4. Use path-consistency as preprocessing\n",
        "5. Decomposing nonseparable components was found applicable to TCSP\n"
      ]
    },
    {
      "cell_type": "markdown",
      "metadata": {
        "id": "9nbN3GiZ6jrL"
      },
      "source": [
        "# Notes for \"Reformulating Temporal Plans For Efficient Execution\"\n",
        "\n",
        "\n",
        "Temporal Plan: <G,T,A>, where G is an STN, T is a set of tasks, and A is from a set of association  tuples defined on the nodes of G and on the tasks of T (e.g. \"begin\", \"end\")\n",
        "\n"
      ]
    }
  ]
}